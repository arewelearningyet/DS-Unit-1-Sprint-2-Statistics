{
  "nbformat": 4,
  "nbformat_minor": 0,
  "metadata": {
    "colab": {
      "name": "LS_DS_123_Introduction_to_Bayesian_Inference_Assignment.ipynb",
      "provenance": [],
      "include_colab_link": true
    },
    "kernelspec": {
      "name": "python3",
      "display_name": "Python 3"
    }
  },
  "cells": [
    {
      "cell_type": "markdown",
      "metadata": {
        "id": "view-in-github",
        "colab_type": "text"
      },
      "source": [
        "<a href=\"https://colab.research.google.com/github/arewelearningyet/DS-Unit-1-Sprint-2-Statistics/blob/master/module3/LS_DS_123_Introduction_to_Bayesian_Inference_Assignment.ipynb\" target=\"_parent\"><img src=\"https://colab.research.google.com/assets/colab-badge.svg\" alt=\"Open In Colab\"/></a>"
      ]
    },
    {
      "cell_type": "markdown",
      "metadata": {
        "id": "H7OLbevlbd_Z",
        "colab_type": "text"
      },
      "source": [
        "# Lambda School Data Science Module 123\n",
        "\n",
        "## Introduction to Bayesian Inference\n",
        "\n",
        "\n"
      ]
    },
    {
      "cell_type": "markdown",
      "metadata": {
        "id": "P-DzzRk5bf0z",
        "colab_type": "text"
      },
      "source": [
        "## Assignment - Code it up!\n",
        "\n",
        "We used pure math to apply Bayes Theorem to drug tests. Now write Python code to reproduce the results! This is purposefully open ended - you'll have to think about how you should represent probabilities and events. You can and should look things up.\n",
        "\n",
        "Specific goals/targets:\n",
        "\n",
        "### 1) Write a function \n",
        "\n",
        "`def prob_drunk_given_positive(prob_drunk_prior, false_positive_rate):` \n",
        "\n",
        "You should only truly need these two values in order to apply Bayes Theorem. In this example, imagine that individuals are taking a breathalyzer test with an 8% false positive rate, a 100% true positive rate, and that our prior belief about drunk driving in the population is 1/1000. \n",
        " - What is the probability that a person is drunk after one positive breathalyzer test?\n",
        " - What is the probability that a person is drunk after two positive breathalyzer tests?\n",
        " - How many positive breathalyzer tests are needed in order to have a probability that's greater than 95% that a person is drunk beyond the legal limit?\n",
        "\n",
        "### 2) Explore `scipy.stats.bayes_mvs`  \n",
        "Read its documentation, and experiment with it on data you've tested in other ways earlier this week.\n",
        " - Create a visualization comparing the results of a Bayesian approach to a traditional/frequentist approach. (with a large sample size they should look close to identical, however, take this opportunity to practice visualizing condfidence intervals in general. The following are some potential ways that you could visualize confidence intervals on your graph:\n",
        "  - [Matplotlib Error Bars](https://matplotlib.org/3.1.1/api/_as_gen/matplotlib.pyplot.errorbar.html)\n",
        "  - [Seaborn barplot with error bars](https://seaborn.pydata.org/generated/seaborn.barplot.html)\n",
        "  - [Vertical ines to show bounds of confidence interval](https://www.simplypsychology.org/confidence-interval.jpg)\n",
        "  - [Confidence Intervals on Box Plots](https://matplotlib.org/3.1.1/api/_as_gen/matplotlib.axes.Axes.boxplot.html)\n",
        "\n",
        "### 3) In your own words, summarize the difference between Bayesian and Frequentist statistics\n",
        "\n",
        "If you're unsure where to start, check out [this blog post of Bayes theorem with Python](https://dataconomy.com/2015/02/introduction-to-bayes-theorem-with-python/).\n",
        "\n"
      ]
    },
    {
      "cell_type": "code",
      "metadata": {
        "id": "xpVhZyUnbf7o",
        "colab_type": "code",
        "colab": {}
      },
      "source": [
        "# prior belief about drunk driving in the population is 1/1000\n",
        "prob_drunk_prior=1/1000\n",
        "# false positive rate\n",
        "false_positive_rate=0.08\n",
        "\n",
        "p_drunk=prob_drunk_prior\n",
        "p_not_drunk=1-p_drunk\n",
        "true_positive_rate=1"
      ],
      "execution_count": 0,
      "outputs": []
    },
    {
      "cell_type": "code",
      "metadata": {
        "id": "ezwKxq_5xqYk",
        "colab_type": "code",
        "colab": {
          "base_uri": "https://localhost:8080/",
          "height": 33
        },
        "outputId": "d386e2ff-2dfb-49ae-ea58-d7d4c9f4e82c"
      },
      "source": [
        "def prob_drunk_given_positive(prob_drunk_prior, false_positive_rate):\n",
        "  true_positive_rate=1\n",
        "  p_drunk=prob_drunk_prior\n",
        "  p_not_drunk=1-p_drunk\n",
        "  return (true_positive_rate*p_drunk)/((true_positive_rate*p_drunk)+(false_positive_rate*p_not_drunk))\n",
        "print('the probability that someone is drunk after one positive breathalyzer tests is', \n",
        "      prob_drunk_given_positive(prob_drunk_prior, false_positive_rate))"
      ],
      "execution_count": 29,
      "outputs": [
        {
          "output_type": "stream",
          "text": [
            "the probability that someone is drunk after one positive breathalizer tests is 0.012357884330202669\n"
          ],
          "name": "stdout"
        }
      ]
    },
    {
      "cell_type": "code",
      "metadata": {
        "id": "OHSoWVLB3pan",
        "colab_type": "code",
        "colab": {
          "base_uri": "https://localhost:8080/",
          "height": 33
        },
        "outputId": "b250382f-0243-4c9e-af17-0a7abce0b74c"
      },
      "source": [
        "print('the probability that someone is drunk after two positive brethalyzer tests is',\n",
        "      prob_drunk_given_positive\n",
        "      (prob_drunk_given_positive\n",
        "       (prob_drunk_prior, false_positive_rate), false_positive_rate))"
      ],
      "execution_count": 33,
      "outputs": [
        {
          "output_type": "stream",
          "text": [
            "the probability that someone is drunk after two positive brethalyzer tests is 0.13525210993291495\n"
          ],
          "name": "stdout"
        }
      ]
    },
    {
      "cell_type": "code",
      "metadata": {
        "id": "XouIxP-1y-CH",
        "colab_type": "code",
        "colab": {
          "base_uri": "https://localhost:8080/",
          "height": 50
        },
        "outputId": "3d679246-3b97-46a3-9f10-6707dcd6aae1"
      },
      "source": [
        "print(prob_drunk_given_positive\n",
        "      (prob_drunk_given_positive\n",
        "       (prob_drunk_given_positive\n",
        "        (prob_drunk_given_positive\n",
        "         (prob_drunk_prior, false_positive_rate), false_positive_rate), false_positive_rate), false_positive_rate))\n",
        "print('four positive breathalyzer tests are needed in order to have a probability that\\'s greater than 95% that a person is drunk beyond the legal limit')"
      ],
      "execution_count": 34,
      "outputs": [
        {
          "output_type": "stream",
          "text": [
            "0.9606895076105054\n",
            "four positive breathalyzer tests are needed in order to have a probability that's greater than 95% that a person is drunk beyond the legal limit\n"
          ],
          "name": "stdout"
        }
      ]
    },
    {
      "cell_type": "code",
      "metadata": {
        "id": "GRVlJr_g2VBQ",
        "colab_type": "code",
        "colab": {}
      },
      "source": [
        "# in a function that loops until >0.95 threshold is reached...\n",
        "# defining with given parameters\n",
        "def prob_drunk_given_pos(prob_drunk_prior, false_pos_rate, true_pos_rate):\n",
        "  p_drunk=prob_drunk_prior # establish baseline prior assumptions\n",
        "  p_not_drunk=1-p_drunk \n",
        "  # applying theorem\n",
        "  posterior_probability=(\n",
        "      true_pos_rate*p_drunk)/((true_pos_rate*p_drunk)+(false_positive_rate*p_not_drunk)\n",
        "  )\n",
        "  print(posterior_probability) # print initial calculated probability\n",
        "  #establish while loop to continue while probability remains below threshold\n",
        "  while posterior_probability<=0.95:\n",
        "    p_drunk=posterior_probability # integrate new probability into calculations\n",
        "    p_not_drunk=1-p_drunk\n",
        "    # reapply theorem\n",
        "    posterior_probability=(\n",
        "        true_pos_rate*p_drunk)/((true_pos_rate*p_drunk)+(\n",
        "            false_positive_rate*p_not_drunk)\n",
        "  )\n",
        "    print(posterior_probability) # print latest probability within threshold\n",
        "    if posterior_probability ==p_drunk: # conditions that terminate while loop\n",
        "      break"
      ],
      "execution_count": 0,
      "outputs": []
    },
    {
      "cell_type": "code",
      "metadata": {
        "id": "5yUHtdL89PA4",
        "colab_type": "code",
        "colab": {
          "base_uri": "https://localhost:8080/",
          "height": 82
        },
        "outputId": "01da5cd7-4fc7-4b62-c631-747b4aedce7a"
      },
      "source": [
        "# run looping function to count iterations until threshold is reached\n",
        "prob_drunk_given_pos((1/1000), .08, 1)"
      ],
      "execution_count": 39,
      "outputs": [
        {
          "output_type": "stream",
          "text": [
            "0.012357884330202669\n",
            "0.13525210993291495\n",
            "0.6615996951348605\n",
            "0.9606895076105054\n"
          ],
          "name": "stdout"
        }
      ]
    },
    {
      "cell_type": "markdown",
      "metadata": {
        "id": "uWgWjp3PQ3Sq",
        "colab_type": "text"
      },
      "source": [
        "## Resources"
      ]
    },
    {
      "cell_type": "markdown",
      "metadata": {
        "id": "QRgHqmYIQ9qn",
        "colab_type": "text"
      },
      "source": [
        "- [Worked example of Bayes rule calculation](https://en.wikipedia.org/wiki/Bayes'_theorem#Examples) (helpful as it fully breaks out the denominator)\n",
        "- [Source code for mvsdist in scipy](https://github.com/scipy/scipy/blob/90534919e139d2a81c24bf08341734ff41a3db12/scipy/stats/morestats.py#L139)"
      ]
    },
    {
      "cell_type": "markdown",
      "metadata": {
        "id": "VfrO9LL5MXMS",
        "colab_type": "text"
      },
      "source": [
        "2) Explore scipy.stats.bayes_mvs\n",
        "Read its documentation, and experiment with it on data you've tested in other ways earlier this week.\n",
        "\n",
        "Create a visualization comparing the results of a Bayesian approach to a traditional/frequentist approach. (with a large sample size they should look close to identical, however, take this opportunity to practice visualizing condfidence intervals in general. The following are some potential ways that you could visualize confidence intervals on your graph:\n",
        "Matplotlib Error Bars\n",
        "Seaborn barplot with error bars\n",
        "Vertical ines to show bounds of confidence interval\n",
        "Confidence Intervals on Box Plots"
      ]
    },
    {
      "cell_type": "code",
      "metadata": {
        "id": "eZWS51HPMW42",
        "colab_type": "code",
        "colab": {}
      },
      "source": [
        ""
      ],
      "execution_count": 0,
      "outputs": []
    },
    {
      "cell_type": "markdown",
      "metadata": {
        "id": "q4l_TzQ3kcFy",
        "colab_type": "text"
      },
      "source": [
        "Frequentist is exclusive of anything but explicit given parameters within a sample; Bayesian integrates prior assumptions, as well as integrating further measurements into calculations as they may progress."
      ]
    },
    {
      "cell_type": "markdown",
      "metadata": {
        "id": "GP7Jv1XvwtkX",
        "colab_type": "text"
      },
      "source": [
        "## Stretch Goals:\n",
        "\n",
        "- Go back and study the content from Modules 1 & 2 to make sure that you're really comfortable with them.\n",
        "- Apply a Bayesian technique to a problem you previously worked (in an assignment or project work) on from a frequentist (standard) perspective\n",
        "- Check out [PyMC3](https://docs.pymc.io/) (note this goes beyond hypothesis tests into modeling) - read the guides and work through some examples\n",
        "- Take PyMC3 further - see if you can build something with it!"
      ]
    },
    {
      "cell_type": "code",
      "metadata": {
        "id": "iDi0eFr1x-v_",
        "colab_type": "code",
        "colab": {}
      },
      "source": [
        ""
      ],
      "execution_count": 0,
      "outputs": []
    }
  ]
}